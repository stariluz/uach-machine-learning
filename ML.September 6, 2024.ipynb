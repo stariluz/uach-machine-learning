{
 "cells": [
  {
   "cell_type": "code",
   "execution_count": 17,
   "metadata": {},
   "outputs": [],
   "source": [
    "import numpy"
   ]
  },
  {
   "cell_type": "markdown",
   "metadata": {},
   "source": [
    "## Ejercicio 1: Creación de Vectores\n",
    "**Objetivo:** Crear y manipular vectores en Python utilizando listas y la librería NumPy.\n",
    "\n",
    "1. **Creación básica de vectores:**\n",
    "   - Crea un vector de 5 elementos utilizando una lista en Python.\n",
    "   - Convierte este vector en un array de NumPy.\n",
    "   - Imprime el vector resultante y su tipo."
   ]
  },
  {
   "cell_type": "code",
   "execution_count": 18,
   "metadata": {},
   "outputs": [
    {
     "name": "stdout",
     "output_type": "stream",
     "text": [
      "Vector: [ 4 12  2  3  5]\n",
      "Tipo: <class 'numpy.ndarray'>\n"
     ]
    }
   ],
   "source": [
    "A1=[4,12,2,3,5]\n",
    "A = numpy.array(A1)\n",
    "print(\"Vector:\", A)\n",
    "print(\"Tipo:\", type(A))"
   ]
  },
  {
   "cell_type": "markdown",
   "metadata": {},
   "source": [
    "2. **Acceso y modificación de elementos:**\n",
    "   - Accede al tercer elemento del vector y cámbialo por un nuevo valor.\n",
    "   - Imprime el vector modificado."
   ]
  },
  {
   "cell_type": "code",
   "execution_count": 19,
   "metadata": {},
   "outputs": [
    {
     "name": "stdout",
     "output_type": "stream",
     "text": [
      "[ 4 12  7  3  5]\n"
     ]
    }
   ],
   "source": [
    "A[2]=7\n",
    "print(A)"
   ]
  },
  {
   "cell_type": "markdown",
   "metadata": {},
   "source": [
    "3. **Operaciones con vectores:**\n",
    "   - Crea dos vectores de 4 elementos.\n",
    "   - Calcula la suma y la resta de los dos vectores.\n",
    "   - Calcula el producto punto (dot product) de los dos vectores.\n",
    "   - Encuentra la magnitud (norma) de uno de los vectores."
   ]
  },
  {
   "cell_type": "code",
   "execution_count": 20,
   "metadata": {},
   "outputs": [
    {
     "name": "stdout",
     "output_type": "stream",
     "text": [
      "B1: [1 2 3 4]\n",
      "B2: [11 12 13 14]\n",
      "B1+B2: [12 14 16 18]\n",
      "B1-B2: [-10 -10 -10 -10]\n",
      "B1·B2: 130\n",
      "Magnitud de B1: 25.099800796022265\n"
     ]
    }
   ],
   "source": [
    "B1 = numpy.array([1,2,3,4])\n",
    "B2 = numpy.array([11,12,13,14])\n",
    "B3=B1+B2\n",
    "B4=B1-B2\n",
    "B5=B1.dot(B2)\n",
    "B6=numpy.linalg.norm(B2)\n",
    "print(\"B1:\", B1)\n",
    "print(\"B2:\", B2)\n",
    "print(\"B1+B2:\", B3)\n",
    "print(\"B1-B2:\", B4)\n",
    "print(\"B1·B2:\", B5)\n",
    "print(\"Magnitud de B1:\", B6)\n"
   ]
  },
  {
   "cell_type": "markdown",
   "metadata": {},
   "source": [
    "## Ejercicio 2: Creación de Matrices\n",
    "**Objetivo**: Crear y manipular matrices en Python.\n",
    "\n",
    "1. **Creación básica de matrices:**\n",
    "   - Crea una matriz 3x3 utilizando listas anidadas en Python.   \n",
    "   - Convierte esta matriz en un array de NumPy.   \n",
    "   - Imprime la matriz resultante y su forma (dimensión)."
   ]
  },
  {
   "cell_type": "code",
   "execution_count": 23,
   "metadata": {},
   "outputs": [
    {
     "name": "stdout",
     "output_type": "stream",
     "text": [
      "Matriz:\n",
      " [[0 1 2]\n",
      " [3 4 5]\n",
      " [6 7 8]]\n",
      "Forma: (3, 3)\n"
     ]
    }
   ],
   "source": [
    "C1 = [[j + i*3 for j in range(3)] for i in range(3)]\n",
    "C=numpy.array(C1)\n",
    "print(\"Matriz:\\n\",C)\n",
    "print(\"Forma:\", C.shape)\n"
   ]
  },
  {
   "cell_type": "markdown",
   "metadata": {},
   "source": [
    "2. **Acceso y modificación de elementos:**\n",
    "   - Accede al elemento en la posición (2, 3) de una matriz 4x4.\n",
    "   - Modifica este elemento y cambia la última fila de la matriz por un nuevo vector de 4 elementos."
   ]
  },
  {
   "cell_type": "code",
   "execution_count": 33,
   "metadata": {},
   "outputs": [
    {
     "name": "stdout",
     "output_type": "stream",
     "text": [
      "D:\n",
      " [[ 0  1  2  3]\n",
      " [ 4  5  6  7]\n",
      " [ 8  9 10 11]\n",
      " [12 13 14 15]]\n",
      "D[2][3]: 11\n",
      "D[2][3]: 16\n",
      "D[3]: [0 1 2 3]\n",
      "D:\n",
      " [[ 0  1  2  3]\n",
      " [ 4  5  6  7]\n",
      " [ 8  9 10 16]\n",
      " [ 0  1  2  3]]\n"
     ]
    }
   ],
   "source": [
    "D1 = [[j + i*4 for j in range(4)] for i in range(4)]\n",
    "D=numpy.array(D1)\n",
    "print(\"D:\\n\", D)\n",
    "print(\"D[2][3]:\", D[2][3])\n",
    "D[2][3]=16\n",
    "print(\"D[2][3]:\", D[2][3])\n",
    "D[3] = [i for i in range(4)]\n",
    "print(\"D[3]:\", D[3])\n",
    "print(\"D:\\n\", D)\n"
   ]
  },
  {
   "cell_type": "markdown",
   "metadata": {},
   "source": [
    "3. **Operaciones con matrices:**\n",
    "   - Crea dos matrices 3x3 y realiza las siguientes operaciones:\n",
    "   - Suma de matrices.\n",
    "   - Resta de matrices.\n",
    "   - Producto elemento a elemento (multiplicación Hadamard).\n",
    "   - Multiplicación de matrices (producto matricial).\n",
    "   - Calcula la transpuesta de una de las matrices.\n",
    "   - Encuentra el determinante de una matriz 3x3."
   ]
  },
  {
   "cell_type": "code",
   "execution_count": 42,
   "metadata": {},
   "outputs": [
    {
     "name": "stdout",
     "output_type": "stream",
     "text": [
      "E1:\n",
      " [[0 1 2]\n",
      " [3 4 5]\n",
      " [6 7 8]]\n",
      "E2:\n",
      " [[8 7 6]\n",
      " [5 4 3]\n",
      " [2 1 0]]\n",
      "E1+E2:\n",
      " [[8 8 8]\n",
      " [8 8 8]\n",
      " [8 8 8]]\n",
      "E1-E2:\n",
      " [[-8 -6 -4]\n",
      " [-2  0  2]\n",
      " [ 4  6  8]]\n",
      "E1·E2:\n",
      " [[ 9  6  3]\n",
      " [54 42 30]\n",
      " [99 78 57]]\n",
      "Transpuesta de E1:\n",
      " [[0 3 6]\n",
      " [1 4 7]\n",
      " [2 5 8]]\n",
      "Traza (determinante) de E1:  12\n"
     ]
    }
   ],
   "source": [
    "E1 = numpy.array([[j + i*3 for j in range(3)] for i in range(3)])\n",
    "E2 = numpy.array([[j + i*3 for j in range(2,-1,-1)] for i in range(2,-1,-1)])\n",
    "E3=E1+E2\n",
    "E4=E1-E2\n",
    "E5=E1.dot(E2)\n",
    "E6 = numpy.transpose(E1)\n",
    "E7 = numpy.trace(E1)\n",
    "print(\"E1:\\n\", E1)\n",
    "print(\"E2:\\n\", E2)\n",
    "print(\"E1+E2:\\n\", E3)\n",
    "print(\"E1-E2:\\n\", E4)\n",
    "print(\"E1·E2:\\n\", E5)\n",
    "print(\"Transpuesta de E1:\\n\", E6)\n",
    "print(\"Traza (determinante) de E1: \", E7)\n"
   ]
  }
 ],
 "metadata": {
  "kernelspec": {
   "display_name": "venv",
   "language": "python",
   "name": "python3"
  },
  "language_info": {
   "codemirror_mode": {
    "name": "ipython",
    "version": 3
   },
   "file_extension": ".py",
   "mimetype": "text/x-python",
   "name": "python",
   "nbconvert_exporter": "python",
   "pygments_lexer": "ipython3",
   "version": "3.10.11"
  }
 },
 "nbformat": 4,
 "nbformat_minor": 2
}

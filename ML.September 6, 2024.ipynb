{
  "cells": [
    {
      "cell_type": "markdown",
      "metadata": {
        "id": "H5YBoQV4OlFm"
      },
      "source": [
        "\n",
        "### Universidad Autónoma de Chihuahua\n",
        "\n",
        "#### Facultad de ingeniería\n",
        "\n",
        "##### Ingeniería en Ciencias de la Computación\n",
        "\n",
        "\n",
        "## Curso de Machine Learning\n",
        "---\n",
        "\n",
        "\n",
        "# Operaciones matriciales\n",
        "\n",
        "##### **Trabajo de**: Adrian A. González Domínguez\n",
        "\n",
        "###### **Matrícula**: 359834\n",
        "\n",
        "##### **Asesor**: Manuel Alberto Chavez Salcido\n",
        "\n",
        "##### *7 de septiembre de 2024*\n"
      ]
    },
    {
      "cell_type": "markdown",
      "metadata": {
        "id": "zau6GRxiOe0E"
      },
      "source": [
        "### Librerias de codigo"
      ]
    },
    {
      "cell_type": "code",
      "execution_count": 72,
      "metadata": {
        "id": "zw3Mc9CEOIQx"
      },
      "outputs": [],
      "source": [
        "import numpy\n",
        "from scipy.linalg import lu"
      ]
    },
    {
      "cell_type": "markdown",
      "metadata": {
        "id": "nhCLeJUwOIQz"
      },
      "source": [
        "## Ejercicio 1: Creación de Vectores\n",
        "**Objetivo:** Crear y manipular vectores en Python utilizando listas y la librería NumPy.\n",
        "\n",
        "1. **Creación básica de vectores:**\n",
        "   - Crea un vector de 5 elementos utilizando una lista en Python.\n",
        "   - Convierte este vector en un array de NumPy.\n",
        "   - Imprime el vector resultante y su tipo."
      ]
    },
    {
      "cell_type": "code",
      "execution_count": 73,
      "metadata": {
        "colab": {
          "base_uri": "https://localhost:8080/"
        },
        "id": "BI3EplcsOIQ0",
        "outputId": "3bac9e00-cb90-4bd9-cc9c-71585ddb6cd1"
      },
      "outputs": [
        {
          "name": "stdout",
          "output_type": "stream",
          "text": [
            "Vector: [ 4 12  2  3  5]\n",
            "Tipo: <class 'numpy.ndarray'>\n"
          ]
        }
      ],
      "source": [
        "A1=[4,12,2,3,5]\n",
        "A = numpy.array(A1)\n",
        "print(\"Vector:\", A)\n",
        "print(\"Tipo:\", type(A))"
      ]
    },
    {
      "cell_type": "markdown",
      "metadata": {
        "id": "Teu9A_OqOIQ1"
      },
      "source": [
        "2. **Acceso y modificación de elementos:**\n",
        "   - Accede al tercer elemento del vector y cámbialo por un nuevo valor.\n",
        "   - Imprime el vector modificado."
      ]
    },
    {
      "cell_type": "code",
      "execution_count": 74,
      "metadata": {
        "colab": {
          "base_uri": "https://localhost:8080/"
        },
        "id": "Da_vimUROIQ1",
        "outputId": "d1f3634f-6182-428e-defe-a16b2d429009"
      },
      "outputs": [
        {
          "name": "stdout",
          "output_type": "stream",
          "text": [
            "[ 4 12  7  3  5]\n"
          ]
        }
      ],
      "source": [
        "A[2]=7\n",
        "print(A)"
      ]
    },
    {
      "cell_type": "markdown",
      "metadata": {
        "id": "V4vPPuC_OIQ1"
      },
      "source": [
        "3. **Operaciones con vectores:**\n",
        "   - Crea dos vectores de 4 elementos.\n",
        "   - Calcula la suma y la resta de los dos vectores.\n",
        "   - Calcula el producto punto (dot product) de los dos vectores.\n",
        "   - Encuentra la magnitud (norma) de uno de los vectores."
      ]
    },
    {
      "cell_type": "code",
      "execution_count": 75,
      "metadata": {
        "colab": {
          "base_uri": "https://localhost:8080/"
        },
        "id": "Ml0tbu0pOIQ2",
        "outputId": "b7706342-4f5e-416e-fc92-28dfa9e54c32"
      },
      "outputs": [
        {
          "name": "stdout",
          "output_type": "stream",
          "text": [
            "B1: [1 2 3 4]\n",
            "B2: [11 12 13 14]\n",
            "B1+B2: [12 14 16 18]\n",
            "B1-B2: [-10 -10 -10 -10]\n",
            "B1·B2: 130\n",
            "Magnitud de B1: 25.099800796022265\n"
          ]
        }
      ],
      "source": [
        "B1 = numpy.array([1,2,3,4])\n",
        "B2 = numpy.array([11,12,13,14])\n",
        "B3=B1+B2\n",
        "B4=B1-B2\n",
        "B5=B1.dot(B2)\n",
        "B6=numpy.linalg.norm(B2)\n",
        "print(\"B1:\", B1)\n",
        "print(\"B2:\", B2)\n",
        "print(\"B1+B2:\", B3)\n",
        "print(\"B1-B2:\", B4)\n",
        "print(\"B1·B2:\", B5)\n",
        "print(\"Magnitud de B1:\", B6)\n"
      ]
    },
    {
      "cell_type": "markdown",
      "metadata": {
        "id": "KbmnXB-FOIQ2"
      },
      "source": [
        "## Ejercicio 2: Creación de Matrices\n",
        "**Objetivo**: Crear y manipular matrices en Python.\n",
        "\n",
        "1. **Creación básica de matrices:**\n",
        "   - Crea una matriz 3x3 utilizando listas anidadas en Python.   \n",
        "   - Convierte esta matriz en un array de NumPy.   \n",
        "   - Imprime la matriz resultante y su forma (dimensión)."
      ]
    },
    {
      "cell_type": "code",
      "execution_count": 76,
      "metadata": {
        "colab": {
          "base_uri": "https://localhost:8080/"
        },
        "id": "m0zCf5mNOIQ2",
        "outputId": "b1b49786-b504-4cf4-e8e1-348281119f22"
      },
      "outputs": [
        {
          "name": "stdout",
          "output_type": "stream",
          "text": [
            "Matriz:\n",
            " [[0 1 2]\n",
            " [3 4 5]\n",
            " [6 7 8]]\n",
            "Forma: (3, 3)\n"
          ]
        }
      ],
      "source": [
        "C1 = [[j + i*3 for j in range(3)] for i in range(3)]\n",
        "C=numpy.array(C1)\n",
        "print(\"Matriz:\\n\",C)\n",
        "print(\"Forma:\", C.shape)\n"
      ]
    },
    {
      "cell_type": "markdown",
      "metadata": {
        "id": "6XtIEI9xOIQ3"
      },
      "source": [
        "2. **Acceso y modificación de elementos:**\n",
        "   - Accede al elemento en la posición (2, 3) de una matriz 4x4.\n",
        "   - Modifica este elemento y cambia la última fila de la matriz por un nuevo vector de 4 elementos."
      ]
    },
    {
      "cell_type": "code",
      "execution_count": 77,
      "metadata": {
        "colab": {
          "base_uri": "https://localhost:8080/"
        },
        "id": "U1H-kbNOOIQ3",
        "outputId": "494f28b2-4739-4b33-d228-9e2337cfc748"
      },
      "outputs": [
        {
          "name": "stdout",
          "output_type": "stream",
          "text": [
            "D:\n",
            " [[ 0  1  2  3]\n",
            " [ 4  5  6  7]\n",
            " [ 8  9 10 11]\n",
            " [12 13 14 15]]\n",
            "D[2][3]: 11\n",
            "D[2][3]: 16\n",
            "D[3]: [0 1 2 3]\n",
            "D:\n",
            " [[ 0  1  2  3]\n",
            " [ 4  5  6  7]\n",
            " [ 8  9 10 16]\n",
            " [ 0  1  2  3]]\n"
          ]
        }
      ],
      "source": [
        "D1 = [[j + i*4 for j in range(4)] for i in range(4)]\n",
        "D=numpy.array(D1)\n",
        "print(\"D:\\n\", D)\n",
        "print(\"D[2][3]:\", D[2][3])\n",
        "D[2][3]=16\n",
        "print(\"D[2][3]:\", D[2][3])\n",
        "D[3] = [i for i in range(4)]\n",
        "print(\"D[3]:\", D[3])\n",
        "print(\"D:\\n\", D)\n"
      ]
    },
    {
      "cell_type": "markdown",
      "metadata": {
        "id": "n84dJYEuOIQ3"
      },
      "source": [
        "3. **Operaciones con matrices:**\n",
        "   - Crea dos matrices 3x3 y realiza las siguientes operaciones:\n",
        "   - Suma de matrices.\n",
        "   - Resta de matrices.\n",
        "   - Producto elemento a elemento (multiplicación Hadamard).\n",
        "   - Multiplicación de matrices (producto matricial).\n",
        "   - Calcula la transpuesta de una de las matrices.\n",
        "   - Encuentra el determinante de una matriz 3x3."
      ]
    },
    {
      "cell_type": "code",
      "execution_count": 78,
      "metadata": {
        "colab": {
          "base_uri": "https://localhost:8080/"
        },
        "id": "Pr0F6cHtOIQ3",
        "outputId": "3acc7487-2d9a-49ec-9e53-222eefbe370e"
      },
      "outputs": [
        {
          "name": "stdout",
          "output_type": "stream",
          "text": [
            "E1:\n",
            " [[0 1 2]\n",
            " [3 4 5]\n",
            " [6 7 8]]\n",
            "E2:\n",
            " [[8 7 6]\n",
            " [5 4 3]\n",
            " [2 1 0]]\n",
            "E1+E2:\n",
            " [[8 8 8]\n",
            " [8 8 8]\n",
            " [8 8 8]]\n",
            "E1-E2:\n",
            " [[-8 -6 -4]\n",
            " [-2  0  2]\n",
            " [ 4  6  8]]\n",
            "E1·E2:\n",
            " [[ 9  6  3]\n",
            " [54 42 30]\n",
            " [99 78 57]]\n",
            "Transpuesta de E1:\n",
            " [[0 3 6]\n",
            " [1 4 7]\n",
            " [2 5 8]]\n",
            "Traza (determinante) de E1:  12\n"
          ]
        }
      ],
      "source": [
        "E1 = numpy.array([[j + i*3 for j in range(3)] for i in range(3)])\n",
        "E2 = numpy.array([[j + i*3 for j in range(2,-1,-1)] for i in range(2,-1,-1)])\n",
        "E3=E1+E2\n",
        "E4=E1-E2\n",
        "E5=E1.dot(E2)\n",
        "E6 = numpy.transpose(E1)\n",
        "E7 = numpy.trace(E1)\n",
        "print(\"E1:\\n\", E1)\n",
        "print(\"E2:\\n\", E2)\n",
        "print(\"E1+E2:\\n\", E3)\n",
        "print(\"E1-E2:\\n\", E4)\n",
        "print(\"E1·E2:\\n\", E5)\n",
        "print(\"Transpuesta de E1:\\n\", E6)\n",
        "print(\"Traza (determinante) de E1: \", E7)\n"
      ]
    },
    {
      "cell_type": "markdown",
      "metadata": {
        "id": "-VhiMKuVOIQ3"
      },
      "source": [
        "## Ejercicio 3: Aplicación de Operaciones con Matrices\n",
        "**Objetivo**: Aplicar operaciones matriciales a problemas más complejos.\n",
        "\n",
        "1. **Multiplicación de matrices:**\n",
        "   - Crea una matriz 2x3 y otra matriz 3x2. Realiza la multiplicación matricial y muestra el resultado.\n",
        "   - Verifica si la multiplicación inversa da la matriz identidad."
      ]
    },
    {
      "cell_type": "code",
      "execution_count": 79,
      "metadata": {
        "colab": {
          "base_uri": "https://localhost:8080/"
        },
        "id": "vpdb4iy-OIQ4",
        "outputId": "c6347ece-236c-4fbd-ca7b-06e1797da85b"
      },
      "outputs": [
        {
          "name": "stdout",
          "output_type": "stream",
          "text": [
            "F1:\n",
            " [[0 1 2]\n",
            " [2 3 4]]\n",
            "F2:\n",
            " [[0 1]\n",
            " [3 4]\n",
            " [6 7]]\n",
            "Multiplicación de matrices -> F3=F1xF2:\n",
            " [[15 18]\n",
            " [33 42]]\n",
            "Inversa de F3 -> F3^-1:\n",
            " [[ 1.16666667 -0.5       ]\n",
            " [-0.91666667  0.41666667]]\n",
            "Matriz identidad -> F3xF3^-1:\n",
            " [[ 1.00000000e+00  1.11022302e-15]\n",
            " [-2.22044605e-15  1.00000000e+00]]\n"
          ]
        }
      ],
      "source": [
        "F1 = numpy.array([[j + i*2 for j in range(3)] for i in range(2)])\n",
        "F2 = numpy.array([[j + i*3 for j in range(2)] for i in range(3)])\n",
        "F3 = F1.dot(F2)\n",
        "print(\"F1:\\n\", F1)\n",
        "print(\"F2:\\n\", F2)\n",
        "print(\"Multiplicación de matrices -> F3=F1xF2:\\n\", F3)\n",
        "F4 = numpy.linalg.inv(F3)\n",
        "print(\"Inversa de F3 -> F3^-1:\\n\", F4)\n",
        "F5=F3.dot(F4)\n",
        "print(\"Matriz identidad -> F3xF3^-1:\\n\", F5)"
      ]
    },
    {
      "cell_type": "markdown",
      "metadata": {
        "id": "2qmL5a5aOIQ4"
      },
      "source": [
        "2. **Sistemas de ecuaciones lineales:**\n",
        "\n",
        "   - Utiliza la función np.linalg.solve() para resolver el sistema:\n",
        "     \n",
        "$$\\begin{cases}\n",
        "2x + 3y = 5 \\\\\n",
        "4x + 5y = 6\n",
        "\\end{cases}$$\n"
      ]
    },
    {
      "cell_type": "code",
      "execution_count": 80,
      "metadata": {
        "colab": {
          "base_uri": "https://localhost:8080/"
        },
        "id": "VufOXsRgOIQ4",
        "outputId": "e11ca7a6-2a7f-4b8b-bbac-2f7d754c1b5f"
      },
      "outputs": [
        {
          "name": "stdout",
          "output_type": "stream",
          "text": [
            "[-3.5  4. ]\n"
          ]
        }
      ],
      "source": [
        "linear_system_1=[[2,3],[4,5]]\n",
        "constant_linear_system_1=[5,6]\n",
        "result=numpy.linalg.solve(linear_system_1,constant_linear_system_1)\n",
        "print(result)"
      ]
    },
    {
      "cell_type": "markdown",
      "metadata": {},
      "source": [
        "3. **Descomposición de matrices:**\n",
        "   - Realiza la descomposición de una matriz cuadrada en una matriz triangular superior e inferior (LU descomposición).\n",
        "   - Utiliza la función np.linalg.inv() para encontrar la inversa de una matriz 3x3."
      ]
    },
    {
      "cell_type": "code",
      "execution_count": 81,
      "metadata": {},
      "outputs": [
        {
          "name": "stdout",
          "output_type": "stream",
          "text": [
            "G:\n",
            " [[4 3 2]\n",
            " [3 2 1]\n",
            " [2 1 3]]\n",
            "Matriz L triangular inferior de G: \n",
            " [[1.   0.   0.  ]\n",
            " [0.5  1.   0.  ]\n",
            " [0.75 0.5  1.  ]]\n",
            "\n",
            "Matriz U triangular superior de G: \n",
            " [[ 4.   3.   2. ]\n",
            " [ 0.  -0.5  2. ]\n",
            " [ 0.   0.  -1.5]]\n",
            "\n",
            "Matriz P de permutación de G: \n",
            " [[1. 0. 0.]\n",
            " [0. 0. 1.]\n",
            " [0. 1. 0.]]\n",
            "Inversa de G -> G^-1: \n",
            " [[-1.66666667  2.33333333  0.33333333]\n",
            " [ 2.33333333 -2.66666667 -0.66666667]\n",
            " [ 0.33333333 -0.66666667  0.33333333]]\n"
          ]
        }
      ],
      "source": [
        "G = numpy.array([[4, 3, 2],\n",
        "              [3, 2, 1],\n",
        "              [2, 1, 3]])\n",
        "P, L, U = lu(G)\n",
        "G_inv = numpy.linalg.inv(G)\n",
        "print(\"G:\\n\", G)\n",
        "print(\"Matriz L triangular inferior de G: \\n\", L)\n",
        "print(\"\\nMatriz U triangular superior de G: \\n\", U)\n",
        "print(\"\\nMatriz P de permutación de G: \\n\", P)\n",
        "print(\"Inversa de G -> G^-1: \\n\", G_inv)"
      ]
    },
    {
      "cell_type": "markdown",
      "metadata": {
        "id": "R37bFfBpOIQ4"
      },
      "source": [
        "4. **Autovalores y autovectores:**\n",
        "   - Calcula los autovalores y autovectores de una matriz 3x3.\n",
        "   - Verifica que  $A \\times v = \\lambda \\times v$, donde $A$ es la matriz, $v$ es el autovector y $\\lambda$ es el autovalor correspondiente."
      ]
    },
    {
      "cell_type": "code",
      "execution_count": 82,
      "metadata": {
        "colab": {
          "base_uri": "https://localhost:8080/"
        },
        "id": "f5NG_zMrOIQ4",
        "outputId": "efd92154-494a-4739-e116-c69aabad4e07"
      },
      "outputs": [
        {
          "name": "stdout",
          "output_type": "stream",
          "text": [
            "Matriz:\n",
            " [[4 1 2]\n",
            " [1 3 0]\n",
            " [2 0 3]]\n",
            "Autovalores:\n",
            " [5.79128785 1.20871215 3.        ]\n",
            "Autovectores:\n",
            " [[-7.80454320e-01 -6.25212808e-01 -3.97205465e-16]\n",
            " [-2.79603668e-01  3.49029782e-01 -8.94427191e-01]\n",
            " [-5.59207335e-01  6.98059565e-01  4.47213595e-01]]\n"
          ]
        }
      ],
      "source": [
        "H = numpy.array([[4, 1, 2],\n",
        "              [1, 3, 0],\n",
        "              [2, 0, 3]])\n",
        "\n",
        "eigenvalues, eigenvectors = numpy.linalg.eig(H)\n",
        "\n",
        "print(\"Matriz:\\n\", H)\n",
        "print(\"Autovalores:\\n\", eigenvalues)\n",
        "print(\"Autovectores:\\n\", eigenvectors)\n"
      ]
    },
    {
      "cell_type": "code",
      "execution_count": 83,
      "metadata": {
        "colab": {
          "base_uri": "https://localhost:8080/"
        },
        "id": "rEs3RZR9OIQ5",
        "outputId": "77a6aaa4-6ba6-49db-e743-289de5e02eae"
      },
      "outputs": [
        {
          "name": "stdout",
          "output_type": "stream",
          "text": [
            "Autovalor: 5.791287847477921\n",
            "Autovector: [-0.78045432 -0.27960367 -0.55920734]\n",
            "H * v:\n",
            "[-4.51983562 -1.61926532 -3.23853065]\n",
            "λ * v:\n",
            "[-4.51983562 -1.61926532 -3.23853065]\n",
            "¿H * v = λ * v? True\n",
            "\n",
            "Autovalor: 1.2087121525220796\n",
            "Autovector: [-0.62521281  0.34902978  0.69805956]\n",
            "H * v:\n",
            "[-0.75570232  0.42187654  0.84375308]\n",
            "λ * v:\n",
            "[-0.75570232  0.42187654  0.84375308]\n",
            "¿H * v = λ * v? True\n",
            "\n",
            "Autovalor: 2.9999999999999996\n",
            "Autovector: [-3.97205465e-16 -8.94427191e-01  4.47213595e-01]\n",
            "H * v:\n",
            "[-9.99200722e-16 -2.68328157e+00  1.34164079e+00]\n",
            "λ * v:\n",
            "[-1.19161639e-15 -2.68328157e+00  1.34164079e+00]\n",
            "¿H * v = λ * v? True\n",
            "\n"
          ]
        }
      ],
      "source": [
        "# Verificar la relación A * v = λ * v\n",
        "for i in range(len(eigenvalues)):\n",
        "    eigenvalue = eigenvalues[i]\n",
        "    eigenvector = eigenvectors[:, i]\n",
        "    Hv = numpy.dot(H, eigenvector)\n",
        "    lambda_v = eigenvalue * eigenvector\n",
        "\n",
        "    print(f\"Autovalor: {eigenvalue}\")\n",
        "    print(f\"Autovector: {eigenvector}\")\n",
        "    print(f\"H * v:\\n{Hv}\")\n",
        "    print(f\"λ * v:\\n{lambda_v}\")\n",
        "    print(f\"¿H * v = λ * v? {numpy.allclose(Hv, lambda_v)}\\n\")"
      ]
    }
  ],
  "metadata": {
    "colab": {
      "collapsed_sections": [
        "H5YBoQV4OlFm"
      ],
      "provenance": []
    },
    "kernelspec": {
      "display_name": "venv",
      "language": "python",
      "name": "python3"
    },
    "language_info": {
      "codemirror_mode": {
        "name": "ipython",
        "version": 3
      },
      "file_extension": ".py",
      "mimetype": "text/x-python",
      "name": "python",
      "nbconvert_exporter": "python",
      "pygments_lexer": "ipython3",
      "version": "3.10.11"
    }
  },
  "nbformat": 4,
  "nbformat_minor": 0
}
